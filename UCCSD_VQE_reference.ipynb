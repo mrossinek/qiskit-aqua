{
 "cells": [
  {
   "cell_type": "markdown",
   "metadata": {},
   "source": [
    "#  VQE with UCCSD"
   ]
  },
  {
   "cell_type": "code",
   "execution_count": 1,
   "metadata": {},
   "outputs": [
    {
     "name": "stderr",
     "output_type": "stream",
     "text": [
      "/home/max/Files/Uni/QiskitCamp2019/project/.direnv/python-3.7.4/lib/python3.7/site-packages/qiskit/pulse/channels/pulse_channels.py:25: DeprecationWarning: Channels have been migrated. Please use `from qiskit.pulse.channels import X` rather than `from qiskit.pulse.channels.pulse_channels import X`.\n",
      "  DeprecationWarning)\n",
      "Numpy 1.16 has memory leak bug  https://github.com/numpy/numpy/issues/13808\n",
      "It is recommended to downgrade to numpy 1.15 or older\n"
     ]
    }
   ],
   "source": [
    "# useful additional packages \n",
    "import matplotlib.pyplot as plt\n",
    "%matplotlib inline\n",
    "import numpy as np\n",
    "from qiskit import Aer\n",
    "from qiskit.chemistry import QiskitChemistry\n",
    "import warnings\n",
    "warnings.filterwarnings('ignore')\n",
    "    \n",
    "# setup qiskit_chemistry logging\n",
    "import logging\n",
    "from qiskit.chemistry import set_qiskit_chemistry_logging\n",
    "set_qiskit_chemistry_logging(logging.ERROR) # choose among DEBUG, INFO, WARNING, ERROR, CRITICAL and NOTSET"
   ]
  },
  {
   "cell_type": "code",
   "execution_count": 2,
   "metadata": {},
   "outputs": [],
   "source": [
    "# chemistry related modules\n",
    "from qiskit.chemistry import FermionicOperator\n",
    "from qiskit.chemistry.drivers import PySCFDriver, UnitsType"
   ]
  },
  {
   "cell_type": "code",
   "execution_count": 3,
   "metadata": {},
   "outputs": [],
   "source": [
    "    # Use PySCF, a classical computational chemistry software\n",
    "    # package, to compute the one-body and two-body integrals in\n",
    "    # molecular-orbital basis, necessary to form the Fermionic operator\n",
    "    driver = PySCFDriver(atom='H .0 .0 .0; H .0 .0 0.735',\n",
    "                        unit=UnitsType.ANGSTROM,\n",
    "                        basis='sto3g')\n",
    "    molecule = driver.run()\n",
    "    num_particles = molecule.num_alpha + molecule.num_beta\n",
    "    num_spin_orbitals = molecule.num_orbitals * 2"
   ]
  },
  {
   "cell_type": "code",
   "execution_count": 4,
   "metadata": {},
   "outputs": [],
   "source": [
    "# Build the qubit operator, which is the input to the VQE algorithm in Aqua\n",
    "ferOp = FermionicOperator(h1=molecule.one_body_integrals, h2=molecule.two_body_integrals)\n",
    "map_type = 'PARITY'\n",
    "qubitOp = ferOp.mapping(map_type)\n",
    "qubitOp = qubitOp.two_qubit_reduced_operator(num_particles)\n",
    "num_qubits = qubitOp.num_qubits"
   ]
  },
  {
   "cell_type": "code",
   "execution_count": 5,
   "metadata": {},
   "outputs": [],
   "source": [
    "# set the backend for the quantum computation\n",
    "from qiskit import Aer\n",
    "backend = Aer.get_backend('statevector_simulator')"
   ]
  },
  {
   "cell_type": "code",
   "execution_count": 6,
   "metadata": {},
   "outputs": [],
   "source": [
    "# setup a classical optimizer for VQE\n",
    "from qiskit.aqua.components.optimizers import L_BFGS_B\n",
    "optimizer = L_BFGS_B()"
   ]
  },
  {
   "cell_type": "code",
   "execution_count": 7,
   "metadata": {},
   "outputs": [],
   "source": [
    "# setup the initial state for the variational form\n",
    "from qiskit.chemistry.aqua_extensions.components.initial_states import HartreeFock\n",
    "init_state = HartreeFock(num_qubits, num_spin_orbitals, num_particles)"
   ]
  },
  {
   "cell_type": "code",
   "execution_count": 8,
   "metadata": {},
   "outputs": [],
   "source": [
    "# setup the variational form for VQE\n",
    "from qiskit.chemistry.aqua_extensions.components.variational_forms import UCCSD\n",
    "var_form = UCCSD(num_qubits, 1, num_spin_orbitals, num_particles, initial_state=init_state)"
   ]
  },
  {
   "cell_type": "code",
   "execution_count": 9,
   "metadata": {},
   "outputs": [
    {
     "name": "stdout",
     "output_type": "stream",
     "text": [
      "-1.8572750302023795\n"
     ]
    }
   ],
   "source": [
    "# setup and run VQE\n",
    "from qiskit.aqua.algorithms import VQE\n",
    "algorithm = VQE(qubitOp, var_form, optimizer)\n",
    "result = algorithm.run(backend)\n",
    "print(result['energy'])"
   ]
  },
  {
   "cell_type": "markdown",
   "metadata": {},
   "source": [
    "# Adaptive VQE"
   ]
  },
  {
   "cell_type": "code",
   "execution_count": 10,
   "metadata": {},
   "outputs": [],
   "source": [
    "from qiskit.chemistry.aqua_extensions.components.variational_forms.ucc_new import UCCSD_single_operator\n",
    "var_form_base = UCCSD_single_operator(num_qubits, 1, num_spin_orbitals, num_particles, [], [], [], init_state, 0)"
   ]
  },
  {
   "cell_type": "code",
   "execution_count": 11,
   "metadata": {},
   "outputs": [
    {
     "name": "stdout",
     "output_type": "stream",
     "text": [
      "Iteration #1: E = -1.8572750302023797\n"
     ]
    }
   ],
   "source": [
    "from qiskit.aqua.algorithms.adaptive import VQEAdapt\n",
    "algorithm = VQEAdapt(qubitOp, var_form_base, 0.001, optimizer, var_form._hopping_ops)\n",
    "result = algorithm.run(backend)"
   ]
  },
  {
   "cell_type": "code",
   "execution_count": null,
   "metadata": {},
   "outputs": [],
   "source": [
    "    "
   ]
  }
 ],
 "metadata": {
  "kernelspec": {
   "display_name": "Python 3",
   "language": "python",
   "name": "python3"
  },
  "language_info": {
   "codemirror_mode": {
    "name": "ipython",
    "version": 3
   },
   "file_extension": ".py",
   "mimetype": "text/x-python",
   "name": "python",
   "nbconvert_exporter": "python",
   "pygments_lexer": "ipython3",
   "version": "3.7.4"
  }
 },
 "nbformat": 4,
 "nbformat_minor": 2
}
