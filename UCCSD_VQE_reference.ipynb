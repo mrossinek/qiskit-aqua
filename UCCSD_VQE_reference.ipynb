{
 "cells": [
  {
   "cell_type": "markdown",
   "metadata": {},
   "source": [
    "#  VQE with UCCSD"
   ]
  },
  {
   "cell_type": "code",
   "execution_count": 1,
   "metadata": {},
   "outputs": [
    {
     "name": "stderr",
     "output_type": "stream",
     "text": [
      "/home/max/Files/Uni/QiskitCamp2019/project/.direnv/python-3.7.4/lib/python3.7/site-packages/qiskit/pulse/channels/pulse_channels.py:25: DeprecationWarning: Channels have been migrated. Please use `from qiskit.pulse.channels import X` rather than `from qiskit.pulse.channels.pulse_channels import X`.\n",
      "  DeprecationWarning)\n",
      "Numpy 1.16 has memory leak bug  https://github.com/numpy/numpy/issues/13808\n",
      "It is recommended to downgrade to numpy 1.15 or older\n"
     ]
    }
   ],
   "source": [
    "# useful additional packages \n",
    "import matplotlib.pyplot as plt\n",
    "%matplotlib inline\n",
    "import numpy as np\n",
    "from qiskit import Aer\n",
    "from qiskit.chemistry import QiskitChemistry\n",
    "import warnings\n",
    "warnings.filterwarnings('ignore')\n",
    "    \n",
    "# setup qiskit_chemistry logging\n",
    "import logging\n",
    "from qiskit.chemistry import set_qiskit_chemistry_logging\n",
    "set_qiskit_chemistry_logging(logging.ERROR) # choose among DEBUG, INFO, WARNING, ERROR, CRITICAL and NOTSET"
   ]
  },
  {
   "cell_type": "code",
   "execution_count": 2,
   "metadata": {},
   "outputs": [],
   "source": [
    "# chemistry related modules\n",
    "from qiskit.chemistry import FermionicOperator\n",
    "from qiskit.chemistry.drivers import PySCFDriver, UnitsType"
   ]
  },
  {
   "cell_type": "code",
   "execution_count": 3,
   "metadata": {},
   "outputs": [],
   "source": [
    "    # Use PySCF, a classical computational chemistry software\n",
    "    # package, to compute the one-body and two-body integrals in\n",
    "    # molecular-orbital basis, necessary to form the Fermionic operator\n",
    "    driver = PySCFDriver(atom='H .0 .0 .0; H .0 .0 0.735; H .0 0.735 .0',\n",
    "                        unit=UnitsType.ANGSTROM,\n",
    "                        basis='sto3g',\n",
    "                        charge=1)\n",
    "    molecule = driver.run()\n",
    "    num_particles = molecule.num_alpha + molecule.num_beta\n",
    "    num_spin_orbitals = molecule.num_orbitals * 2"
   ]
  },
  {
   "cell_type": "code",
   "execution_count": 4,
   "metadata": {},
   "outputs": [],
   "source": [
    "# Build the qubit operator, which is the input to the VQE algorithm in Aqua\n",
    "ferOp = FermionicOperator(h1=molecule.one_body_integrals, h2=molecule.two_body_integrals)\n",
    "map_type = 'PARITY'\n",
    "qubitOp = ferOp.mapping(map_type)\n",
    "qubitOp = qubitOp.two_qubit_reduced_operator(num_particles)\n",
    "num_qubits = qubitOp.num_qubits"
   ]
  },
  {
   "cell_type": "code",
   "execution_count": 5,
   "metadata": {},
   "outputs": [],
   "source": [
    "# set the backend for the quantum computation\n",
    "from qiskit import Aer\n",
    "backend = Aer.get_backend('statevector_simulator')"
   ]
  },
  {
   "cell_type": "code",
   "execution_count": 6,
   "metadata": {},
   "outputs": [],
   "source": [
    "# setup a classical optimizer for VQE\n",
    "from qiskit.aqua.components.optimizers import L_BFGS_B\n",
    "optimizer = L_BFGS_B()"
   ]
  },
  {
   "cell_type": "code",
   "execution_count": 7,
   "metadata": {},
   "outputs": [],
   "source": [
    "# setup the initial state for the variational form\n",
    "from qiskit.chemistry.aqua_extensions.components.initial_states import HartreeFock\n",
    "init_state = HartreeFock(num_qubits, num_spin_orbitals, num_particles)"
   ]
  },
  {
   "cell_type": "code",
   "execution_count": 8,
   "metadata": {},
   "outputs": [],
   "source": [
    "# setup the variational form for VQE\n",
    "from qiskit.chemistry.aqua_extensions.components.variational_forms import UCCSD\n",
    "var_form = UCCSD(num_qubits, 1, num_spin_orbitals, num_particles, initial_state=init_state)"
   ]
  },
  {
   "cell_type": "code",
   "execution_count": 9,
   "metadata": {},
   "outputs": [
    {
     "name": "stdout",
     "output_type": "stream",
     "text": [
      "-3.173681772806102\n"
     ]
    }
   ],
   "source": [
    "# setup and run VQE\n",
    "from qiskit.aqua.algorithms import VQE\n",
    "algorithm = VQE(qubitOp, var_form, optimizer)\n",
    "result = algorithm.run(backend)\n",
    "print(result['energy'])"
   ]
  },
  {
   "cell_type": "markdown",
   "metadata": {},
   "source": [
    "# Adaptive VQE"
   ]
  },
  {
   "cell_type": "code",
   "execution_count": 10,
   "metadata": {},
   "outputs": [],
   "source": [
    "from qiskit.chemistry.aqua_extensions.components.variational_forms.ucc import UCC\n",
    "var_form_base = UCC(num_qubits, 1, num_spin_orbitals, num_particles, [], [], [], init_state, 0)"
   ]
  },
  {
   "cell_type": "code",
   "execution_count": 11,
   "metadata": {},
   "outputs": [
    {
     "name": "stdout",
     "output_type": "stream",
     "text": [
      "--- Iteration #1 ---\n",
      "Gradients:\n",
      "0: Representation: paulis, qubits: 4, size: 2: 0.0\n",
      "1: Representation: paulis, qubits: 4, size: 2: 1.441649986055893e-07\n",
      "2: Representation: paulis, qubits: 4, size: 2: 2.220446049250313e-16\n",
      "3: Representation: paulis, qubits: 4, size: 2: 1.4416499749536626e-07\n",
      "4: Representation: paulis, qubits: 4, size: 8: 0.13143984714657853\n",
      "5: Representation: paulis, qubits: 4, size: 8: 8.881784197001252e-16\n",
      "6: Representation: paulis, qubits: 4, size: 8: 2.220446049250313e-16\n",
      "7: Representation: paulis, qubits: 4, size: 8: 0.12712458436225482\n",
      "  --> Energy = -3.165660557342537\n",
      "--- Iteration #2 ---\n",
      "Gradients:\n",
      "0: Representation: paulis, qubits: 4, size: 2: 0.0\n",
      "1: Representation: paulis, qubits: 4, size: 2: 0.017408993505227066\n",
      "2: Representation: paulis, qubits: 4, size: 2: 2.220446049250313e-16\n",
      "3: Representation: paulis, qubits: 4, size: 2: 0.017408993505227288\n",
      "4: Representation: paulis, qubits: 4, size: 8: 1.3863298398142376e-07\n",
      "5: Representation: paulis, qubits: 4, size: 8: 1.1102230246251565e-16\n",
      "6: Representation: paulis, qubits: 4, size: 8: 1.1102230246251565e-16\n",
      "7: Representation: paulis, qubits: 4, size: 8: 0.10959513934990983\n",
      "  --> Energy = -3.173598126026799\n",
      "--- Iteration #3 ---\n",
      "Gradients:\n",
      "0: Representation: paulis, qubits: 4, size: 2: 0.0\n",
      "1: Representation: paulis, qubits: 4, size: 2: 0.014772958929367253\n",
      "2: Representation: paulis, qubits: 4, size: 2: 0.0\n",
      "3: Representation: paulis, qubits: 4, size: 2: 0.014772958929367697\n",
      "4: Representation: paulis, qubits: 4, size: 8: 0.00516378587591948\n",
      "5: Representation: paulis, qubits: 4, size: 8: 3.3306690738754696e-16\n",
      "6: Representation: paulis, qubits: 4, size: 8: 4.440892098500626e-16\n",
      "7: Representation: paulis, qubits: 4, size: 8: 0.007755221795070599\n",
      "  --> Energy = -3.173650214688591\n",
      "--- Iteration #4 ---\n",
      "Gradients:\n",
      "0: Representation: paulis, qubits: 4, size: 2: 2.220446049250313e-16\n",
      "1: Representation: paulis, qubits: 4, size: 2: 0.013217662366887595\n",
      "2: Representation: paulis, qubits: 4, size: 2: 6.661338147750939e-16\n",
      "3: Representation: paulis, qubits: 4, size: 2: 0.008050113178077467\n",
      "4: Representation: paulis, qubits: 4, size: 8: 0.004560510084191671\n",
      "5: Representation: paulis, qubits: 4, size: 8: 4.440892098500626e-16\n",
      "6: Representation: paulis, qubits: 4, size: 8: 5.551115123125783e-16\n",
      "7: Representation: paulis, qubits: 4, size: 8: 0.00810663847908255\n",
      "  --> Energy = -3.173681772806542\n",
      "--- Iteration #5 ---\n",
      "Gradients:\n",
      "0: Representation: paulis, qubits: 4, size: 2: 2.220446049250313e-16\n",
      "1: Representation: paulis, qubits: 4, size: 2: 0.0081275162607648\n",
      "2: Representation: paulis, qubits: 4, size: 2: 4.440892098500626e-16\n",
      "3: Representation: paulis, qubits: 4, size: 2: 0.008127579008992969\n",
      "4: Representation: paulis, qubits: 4, size: 8: 0.00419178984249835\n",
      "5: Representation: paulis, qubits: 4, size: 8: 2.220446049250313e-16\n",
      "6: Representation: paulis, qubits: 4, size: 8: 2.220446049250313e-16\n",
      "7: Representation: paulis, qubits: 4, size: 8: 0.008261431655651852\n",
      "  --> Energy = -3.173681772806542\n",
      "--- Iteration #6 ---\n",
      "Gradients:\n",
      "0: Representation: paulis, qubits: 4, size: 2: 2.220446049250313e-16\n",
      "1: Representation: paulis, qubits: 4, size: 2: 0.0081275162607648\n",
      "2: Representation: paulis, qubits: 4, size: 2: 4.440892098500626e-16\n",
      "3: Representation: paulis, qubits: 4, size: 2: 0.008127579008992969\n",
      "4: Representation: paulis, qubits: 4, size: 8: 0.00419178984249835\n",
      "5: Representation: paulis, qubits: 4, size: 8: 2.220446049250313e-16\n",
      "6: Representation: paulis, qubits: 4, size: 8: 2.220446049250313e-16\n",
      "7: Representation: paulis, qubits: 4, size: 8: 0.008261431655652296\n",
      "  --> Energy = -3.173681772806542\n",
      "--- Iteration #7 ---\n",
      "Gradients:\n",
      "0: Representation: paulis, qubits: 4, size: 2: 2.220446049250313e-16\n",
      "1: Representation: paulis, qubits: 4, size: 2: 0.0081275162607648\n",
      "2: Representation: paulis, qubits: 4, size: 2: 4.440892098500626e-16\n",
      "3: Representation: paulis, qubits: 4, size: 2: 0.008127579008993413\n",
      "4: Representation: paulis, qubits: 4, size: 8: 0.00419178984249835\n",
      "5: Representation: paulis, qubits: 4, size: 8: 2.220446049250313e-16\n",
      "6: Representation: paulis, qubits: 4, size: 8: 2.220446049250313e-16\n",
      "7: Representation: paulis, qubits: 4, size: 8: 0.008261431655652185\n",
      "  --> Energy = -3.173681772806542\n",
      "--- Iteration #8 ---\n",
      "Gradients:\n",
      "0: Representation: paulis, qubits: 4, size: 2: 2.220446049250313e-16\n",
      "1: Representation: paulis, qubits: 4, size: 2: 0.0081275162607648\n",
      "2: Representation: paulis, qubits: 4, size: 2: 4.440892098500626e-16\n",
      "3: Representation: paulis, qubits: 4, size: 2: 0.008127579008993413\n",
      "4: Representation: paulis, qubits: 4, size: 8: 0.00419178984249835\n",
      "5: Representation: paulis, qubits: 4, size: 8: 2.220446049250313e-16\n",
      "6: Representation: paulis, qubits: 4, size: 8: 2.220446049250313e-16\n",
      "7: Representation: paulis, qubits: 4, size: 8: 0.008261431655652407\n",
      "  --> Energy = -3.173681772806542\n",
      "--- Iteration #9 ---\n"
     ]
    },
    {
     "name": "stderr",
     "output_type": "stream",
     "text": [
      "Process ForkPoolWorker-2067:\n",
      "Process ForkPoolWorker-2068:\n",
      "Process ForkPoolWorker-2065:\n",
      "Process ForkPoolWorker-2066:\n",
      "Traceback (most recent call last):\n",
      "  File \"/usr/lib64/python3.7/multiprocessing/process.py\", line 297, in _bootstrap\n",
      "    self.run()\n",
      "Traceback (most recent call last):\n",
      "  File \"/usr/lib64/python3.7/multiprocessing/process.py\", line 99, in run\n",
      "    self._target(*self._args, **self._kwargs)\n",
      "Traceback (most recent call last):\n",
      "  File \"/usr/lib64/python3.7/multiprocessing/process.py\", line 297, in _bootstrap\n",
      "    self.run()\n",
      "Traceback (most recent call last):\n",
      "  File \"/usr/lib64/python3.7/multiprocessing/pool.py\", line 110, in worker\n",
      "    task = get()\n",
      "  File \"/usr/lib64/python3.7/multiprocessing/process.py\", line 297, in _bootstrap\n",
      "    self.run()\n",
      "  File \"/usr/lib64/python3.7/multiprocessing/process.py\", line 99, in run\n",
      "    self._target(*self._args, **self._kwargs)\n",
      "  File \"/usr/lib64/python3.7/multiprocessing/queues.py\", line 352, in get\n",
      "    res = self._reader.recv_bytes()\n",
      "  File \"/usr/lib64/python3.7/multiprocessing/process.py\", line 99, in run\n",
      "    self._target(*self._args, **self._kwargs)\n",
      "  File \"/usr/lib64/python3.7/multiprocessing/pool.py\", line 121, in worker\n",
      "    result = (True, func(*args, **kwds))\n",
      "  File \"/usr/lib64/python3.7/multiprocessing/process.py\", line 297, in _bootstrap\n",
      "    self.run()\n",
      "  File \"/home/max/Files/Uni/QiskitCamp2019/project/qiskit-aqua/qiskit/chemistry/aqua_extensions/components/variational_forms/ucc.py\", line 323, in _construct_circuit_for_one_excited_operator\n",
      "    num_time_slices=num_time_slices, quantum_registers=qr)\n",
      "  File \"/usr/lib64/python3.7/multiprocessing/connection.py\", line 216, in recv_bytes\n",
      "    buf = self._recv_bytes(maxlength)\n",
      "  File \"/usr/lib64/python3.7/multiprocessing/pool.py\", line 121, in worker\n",
      "    result = (True, func(*args, **kwds))\n",
      "  File \"/usr/lib64/python3.7/multiprocessing/process.py\", line 99, in run\n",
      "    self._target(*self._args, **self._kwargs)\n",
      "  File \"/usr/lib64/python3.7/multiprocessing/connection.py\", line 407, in _recv_bytes\n",
      "    buf = self._recv(4)\n",
      "  File \"/usr/lib64/python3.7/multiprocessing/connection.py\", line 379, in _recv\n",
      "    chunk = read(handle, remaining)\n",
      "  File \"/home/max/Files/Uni/QiskitCamp2019/project/qiskit-aqua/qiskit/aqua/operators/weighted_pauli_operator.py\", line 900, in evolve\n",
      "    return qc.decompose()\n",
      "  File \"/usr/lib64/python3.7/multiprocessing/pool.py\", line 121, in worker\n",
      "    result = (True, func(*args, **kwds))\n",
      "KeyboardInterrupt\n",
      "  File \"/home/max/Files/Uni/QiskitCamp2019/project/qiskit-aqua/qiskit/chemistry/aqua_extensions/components/variational_forms/ucc.py\", line 323, in _construct_circuit_for_one_excited_operator\n",
      "    num_time_slices=num_time_slices, quantum_registers=qr)\n",
      "  File \"/home/max/Files/Uni/QiskitCamp2019/project/qiskit-aqua/qiskit/chemistry/aqua_extensions/components/variational_forms/ucc.py\", line 323, in _construct_circuit_for_one_excited_operator\n",
      "    num_time_slices=num_time_slices, quantum_registers=qr)\n",
      "  File \"/home/max/Files/Uni/QiskitCamp2019/project/.direnv/python-3.7.4/lib/python3.7/site-packages/qiskit/circuit/quantumcircuit.py\", line 498, in decompose\n",
      "    decomposed_dag = pass_.run(circuit_to_dag(self))\n",
      "  File \"/home/max/Files/Uni/QiskitCamp2019/project/qiskit-aqua/qiskit/aqua/operators/weighted_pauli_operator.py\", line 897, in evolve\n",
      "    instruction = evolution_instruction(slice_pauli_list, evo_time, num_time_slices)\n",
      "  File \"/home/max/Files/Uni/QiskitCamp2019/project/qiskit-aqua/qiskit/aqua/operators/weighted_pauli_operator.py\", line 897, in evolve\n",
      "    instruction = evolution_instruction(slice_pauli_list, evo_time, num_time_slices)\n",
      "  File \"/home/max/Files/Uni/QiskitCamp2019/project/.direnv/python-3.7.4/lib/python3.7/site-packages/qiskit/transpiler/passes/decompose.py\", line 59, in run\n",
      "    decomposition.apply_operation_back(*inst)\n",
      "  File \"/home/max/Files/Uni/QiskitCamp2019/project/qiskit-aqua/qiskit/aqua/operators/common.py\", line 352, in evolution_instruction\n",
      "    return qc.to_instruction()\n",
      "  File \"/home/max/Files/Uni/QiskitCamp2019/project/qiskit-aqua/qiskit/aqua/operators/common.py\", line 352, in evolution_instruction\n",
      "    return qc.to_instruction()\n",
      "  File \"/home/max/Files/Uni/QiskitCamp2019/project/.direnv/python-3.7.4/lib/python3.7/site-packages/qiskit/circuit/quantumcircuit.py\", line 485, in to_instruction\n",
      "    return circuit_to_instruction(self, parameter_map)\n",
      "  File \"/home/max/Files/Uni/QiskitCamp2019/project/.direnv/python-3.7.4/lib/python3.7/site-packages/qiskit/circuit/quantumcircuit.py\", line 485, in to_instruction\n",
      "    return circuit_to_instruction(self, parameter_map)\n",
      "  File \"/home/max/Files/Uni/QiskitCamp2019/project/.direnv/python-3.7.4/lib/python3.7/site-packages/qiskit/converters/circuit_to_instruction.py\", line 73, in circuit_to_instruction\n",
      "    target = circuit.copy()\n",
      "  File \"/home/max/Files/Uni/QiskitCamp2019/project/.direnv/python-3.7.4/lib/python3.7/site-packages/qiskit/dagcircuit/dagcircuit.py\", line 272, in apply_operation_back\n",
      "    ie = list(self._multi_graph.predecessors(self.output_map[q]))\n",
      "  File \"/home/max/Files/Uni/QiskitCamp2019/project/.direnv/python-3.7.4/lib/python3.7/site-packages/qiskit/converters/circuit_to_instruction.py\", line 86, in circuit_to_instruction\n",
      "    list(map(lambda y: c[find_bit_position(y)], x[2]))), definition))\n",
      "  File \"/home/max/Files/Uni/QiskitCamp2019/project/.direnv/python-3.7.4/lib/python3.7/site-packages/qiskit/circuit/quantumcircuit.py\", line 821, in copy\n",
      "    cpy = deepcopy(self)\n",
      "  File \"/home/max/Files/Uni/QiskitCamp2019/project/.direnv/python-3.7.4/lib/python3.7/site-packages/qiskit/converters/circuit_to_instruction.py\", line 86, in <lambda>\n",
      "    list(map(lambda y: c[find_bit_position(y)], x[2]))), definition))\n",
      "  File \"/home/max/Files/Uni/QiskitCamp2019/project/.direnv/python-3.7.4/lib/python3.7/site-packages/networkx/classes/digraph.py\", line 816, in predecessors\n",
      "    def predecessors(self, n):\n",
      "KeyboardInterrupt\n",
      "  File \"/home/max/Files/Uni/QiskitCamp2019/project/.direnv/python-3.7.4/lib/python3.7/copy.py\", line 180, in deepcopy\n",
      "    y = _reconstruct(x, memo, *rv)\n",
      "KeyboardInterrupt\n"
     ]
    },
    {
     "ename": "QiskitError",
     "evalue": "'Keyboard interrupt in parallel_map.'",
     "output_type": "error",
     "traceback": [
      "\u001b[0;31m---------------------------------------------------------------------------\u001b[0m",
      "\u001b[0;31mKeyboardInterrupt\u001b[0m                         Traceback (most recent call last)",
      "\u001b[0;32m~/Files/Uni/QiskitCamp2019/project/.direnv/python-3.7.4/lib/python3.7/site-packages/qiskit/tools/parallel.py\u001b[0m in \u001b[0;36mparallel_map\u001b[0;34m(task, values, task_args, task_kwargs, num_processes)\u001b[0m\n\u001b[1;32m    120\u001b[0m                 \u001b[0;32mfor\u001b[0m \u001b[0mitem\u001b[0m \u001b[0;32min\u001b[0m \u001b[0masync_res\u001b[0m\u001b[0;34m:\u001b[0m\u001b[0;34m\u001b[0m\u001b[0;34m\u001b[0m\u001b[0m\n\u001b[0;32m--> 121\u001b[0;31m                     \u001b[0mitem\u001b[0m\u001b[0;34m.\u001b[0m\u001b[0mwait\u001b[0m\u001b[0;34m(\u001b[0m\u001b[0mtimeout\u001b[0m\u001b[0;34m=\u001b[0m\u001b[0;36m0.1\u001b[0m\u001b[0;34m)\u001b[0m\u001b[0;34m\u001b[0m\u001b[0;34m\u001b[0m\u001b[0m\n\u001b[0m\u001b[1;32m    122\u001b[0m \u001b[0;34m\u001b[0m\u001b[0m\n",
      "\u001b[0;32m/usr/lib64/python3.7/multiprocessing/pool.py\u001b[0m in \u001b[0;36mwait\u001b[0;34m(self, timeout)\u001b[0m\n\u001b[1;32m    647\u001b[0m     \u001b[0;32mdef\u001b[0m \u001b[0mwait\u001b[0m\u001b[0;34m(\u001b[0m\u001b[0mself\u001b[0m\u001b[0;34m,\u001b[0m \u001b[0mtimeout\u001b[0m\u001b[0;34m=\u001b[0m\u001b[0;32mNone\u001b[0m\u001b[0;34m)\u001b[0m\u001b[0;34m:\u001b[0m\u001b[0;34m\u001b[0m\u001b[0;34m\u001b[0m\u001b[0m\n\u001b[0;32m--> 648\u001b[0;31m         \u001b[0mself\u001b[0m\u001b[0;34m.\u001b[0m\u001b[0m_event\u001b[0m\u001b[0;34m.\u001b[0m\u001b[0mwait\u001b[0m\u001b[0;34m(\u001b[0m\u001b[0mtimeout\u001b[0m\u001b[0;34m)\u001b[0m\u001b[0;34m\u001b[0m\u001b[0;34m\u001b[0m\u001b[0m\n\u001b[0m\u001b[1;32m    649\u001b[0m \u001b[0;34m\u001b[0m\u001b[0m\n",
      "\u001b[0;32m/usr/lib64/python3.7/threading.py\u001b[0m in \u001b[0;36mwait\u001b[0;34m(self, timeout)\u001b[0m\n\u001b[1;32m    551\u001b[0m             \u001b[0;32mif\u001b[0m \u001b[0;32mnot\u001b[0m \u001b[0msignaled\u001b[0m\u001b[0;34m:\u001b[0m\u001b[0;34m\u001b[0m\u001b[0;34m\u001b[0m\u001b[0m\n\u001b[0;32m--> 552\u001b[0;31m                 \u001b[0msignaled\u001b[0m \u001b[0;34m=\u001b[0m \u001b[0mself\u001b[0m\u001b[0;34m.\u001b[0m\u001b[0m_cond\u001b[0m\u001b[0;34m.\u001b[0m\u001b[0mwait\u001b[0m\u001b[0;34m(\u001b[0m\u001b[0mtimeout\u001b[0m\u001b[0;34m)\u001b[0m\u001b[0;34m\u001b[0m\u001b[0;34m\u001b[0m\u001b[0m\n\u001b[0m\u001b[1;32m    553\u001b[0m             \u001b[0;32mreturn\u001b[0m \u001b[0msignaled\u001b[0m\u001b[0;34m\u001b[0m\u001b[0;34m\u001b[0m\u001b[0m\n",
      "\u001b[0;32m/usr/lib64/python3.7/threading.py\u001b[0m in \u001b[0;36mwait\u001b[0;34m(self, timeout)\u001b[0m\n\u001b[1;32m    299\u001b[0m                 \u001b[0;32mif\u001b[0m \u001b[0mtimeout\u001b[0m \u001b[0;34m>\u001b[0m \u001b[0;36m0\u001b[0m\u001b[0;34m:\u001b[0m\u001b[0;34m\u001b[0m\u001b[0;34m\u001b[0m\u001b[0m\n\u001b[0;32m--> 300\u001b[0;31m                     \u001b[0mgotit\u001b[0m \u001b[0;34m=\u001b[0m \u001b[0mwaiter\u001b[0m\u001b[0;34m.\u001b[0m\u001b[0macquire\u001b[0m\u001b[0;34m(\u001b[0m\u001b[0;32mTrue\u001b[0m\u001b[0;34m,\u001b[0m \u001b[0mtimeout\u001b[0m\u001b[0;34m)\u001b[0m\u001b[0;34m\u001b[0m\u001b[0;34m\u001b[0m\u001b[0m\n\u001b[0m\u001b[1;32m    301\u001b[0m                 \u001b[0;32melse\u001b[0m\u001b[0;34m:\u001b[0m\u001b[0;34m\u001b[0m\u001b[0;34m\u001b[0m\u001b[0m\n",
      "\u001b[0;31mKeyboardInterrupt\u001b[0m: ",
      "\nDuring handling of the above exception, another exception occurred:\n",
      "\u001b[0;31mQiskitError\u001b[0m                               Traceback (most recent call last)",
      "\u001b[0;32m<ipython-input-11-85a35068eaac>\u001b[0m in \u001b[0;36m<module>\u001b[0;34m\u001b[0m\n\u001b[1;32m      1\u001b[0m \u001b[0;32mfrom\u001b[0m \u001b[0mqiskit\u001b[0m\u001b[0;34m.\u001b[0m\u001b[0maqua\u001b[0m\u001b[0;34m.\u001b[0m\u001b[0malgorithms\u001b[0m\u001b[0;34m.\u001b[0m\u001b[0madaptive\u001b[0m \u001b[0;32mimport\u001b[0m \u001b[0mVQEAdapt\u001b[0m\u001b[0;34m\u001b[0m\u001b[0;34m\u001b[0m\u001b[0m\n\u001b[1;32m      2\u001b[0m \u001b[0malgorithm\u001b[0m \u001b[0;34m=\u001b[0m \u001b[0mVQEAdapt\u001b[0m\u001b[0;34m(\u001b[0m\u001b[0mqubitOp\u001b[0m\u001b[0;34m,\u001b[0m \u001b[0mvar_form_base\u001b[0m\u001b[0;34m,\u001b[0m \u001b[0moptimizer\u001b[0m\u001b[0;34m,\u001b[0m \u001b[0mvar_form\u001b[0m\u001b[0;34m.\u001b[0m\u001b[0m_hopping_ops\u001b[0m\u001b[0;34m,\u001b[0m \u001b[0mthreshold\u001b[0m\u001b[0;34m=\u001b[0m\u001b[0;36m0.00001\u001b[0m\u001b[0;34m,\u001b[0m \u001b[0mdelta\u001b[0m\u001b[0;34m=\u001b[0m\u001b[0;36m1\u001b[0m\u001b[0;34m)\u001b[0m\u001b[0;34m\u001b[0m\u001b[0;34m\u001b[0m\u001b[0m\n\u001b[0;32m----> 3\u001b[0;31m \u001b[0mresult\u001b[0m \u001b[0;34m=\u001b[0m \u001b[0malgorithm\u001b[0m\u001b[0;34m.\u001b[0m\u001b[0mrun\u001b[0m\u001b[0;34m(\u001b[0m\u001b[0mbackend\u001b[0m\u001b[0;34m)\u001b[0m\u001b[0;34m\u001b[0m\u001b[0;34m\u001b[0m\u001b[0m\n\u001b[0m",
      "\u001b[0;32m~/Files/Uni/QiskitCamp2019/project/qiskit-aqua/qiskit/aqua/algorithms/quantum_algorithm.py\u001b[0m in \u001b[0;36mrun\u001b[0;34m(self, quantum_instance, **kwargs)\u001b[0m\n\u001b[1;32m     63\u001b[0m                 \u001b[0mquantum_instance\u001b[0m\u001b[0;34m.\u001b[0m\u001b[0mset_config\u001b[0m\u001b[0;34m(\u001b[0m\u001b[0;34m**\u001b[0m\u001b[0mkwargs\u001b[0m\u001b[0;34m)\u001b[0m\u001b[0;34m\u001b[0m\u001b[0;34m\u001b[0m\u001b[0m\n\u001b[1;32m     64\u001b[0m             \u001b[0mself\u001b[0m\u001b[0;34m.\u001b[0m\u001b[0m_quantum_instance\u001b[0m \u001b[0;34m=\u001b[0m \u001b[0mquantum_instance\u001b[0m\u001b[0;34m\u001b[0m\u001b[0;34m\u001b[0m\u001b[0m\n\u001b[0;32m---> 65\u001b[0;31m         \u001b[0;32mreturn\u001b[0m \u001b[0mself\u001b[0m\u001b[0;34m.\u001b[0m\u001b[0m_run\u001b[0m\u001b[0;34m(\u001b[0m\u001b[0;34m)\u001b[0m\u001b[0;34m\u001b[0m\u001b[0;34m\u001b[0m\u001b[0m\n\u001b[0m\u001b[1;32m     66\u001b[0m \u001b[0;34m\u001b[0m\u001b[0m\n\u001b[1;32m     67\u001b[0m     \u001b[0;34m@\u001b[0m\u001b[0mabstractmethod\u001b[0m\u001b[0;34m\u001b[0m\u001b[0;34m\u001b[0m\u001b[0m\n",
      "\u001b[0;32m~/Files/Uni/QiskitCamp2019/project/qiskit-aqua/qiskit/aqua/algorithms/adaptive/vqe_adapt/vqe_adapt.py\u001b[0m in \u001b[0;36m_run\u001b[0;34m(self)\u001b[0m\n\u001b[1;32m    156\u001b[0m             \u001b[0;31m# compute gradients\u001b[0m\u001b[0;34m\u001b[0m\u001b[0;34m\u001b[0m\u001b[0;34m\u001b[0m\u001b[0m\n\u001b[1;32m    157\u001b[0m             cur_grads = self._compute_gradients(self._excitation_pool, theta, self._delta,\n\u001b[0;32m--> 158\u001b[0;31m                                                 self._var_form_base, self._operator, self._optimizer)\n\u001b[0m\u001b[1;32m    159\u001b[0m             \u001b[0mprint\u001b[0m\u001b[0;34m(\u001b[0m\u001b[0;34m'Gradients:'\u001b[0m\u001b[0;34m)\u001b[0m\u001b[0;34m\u001b[0m\u001b[0;34m\u001b[0m\u001b[0m\n\u001b[1;32m    160\u001b[0m             \u001b[0;32mfor\u001b[0m \u001b[0mi\u001b[0m \u001b[0;32min\u001b[0m \u001b[0mrange\u001b[0m\u001b[0;34m(\u001b[0m\u001b[0mlen\u001b[0m\u001b[0;34m(\u001b[0m\u001b[0mcur_grads\u001b[0m\u001b[0;34m)\u001b[0m\u001b[0;34m)\u001b[0m\u001b[0;34m:\u001b[0m\u001b[0;34m\u001b[0m\u001b[0;34m\u001b[0m\u001b[0m\n",
      "\u001b[0;32m~/Files/Uni/QiskitCamp2019/project/qiskit-aqua/qiskit/aqua/algorithms/adaptive/vqe_adapt/vqe_adapt.py\u001b[0m in \u001b[0;36m_compute_gradients\u001b[0;34m(self, excitation_pool, theta, delta, var_form, operator, optimizer)\u001b[0m\n\u001b[1;32m     96\u001b[0m             \u001b[0;31m# evaluate energies\u001b[0m\u001b[0;34m\u001b[0m\u001b[0;34m\u001b[0m\u001b[0;34m\u001b[0m\u001b[0m\n\u001b[1;32m     97\u001b[0m             \u001b[0mparameter_sets\u001b[0m \u001b[0;34m=\u001b[0m \u001b[0mtheta\u001b[0m \u001b[0;34m+\u001b[0m \u001b[0;34m[\u001b[0m\u001b[0;34m-\u001b[0m\u001b[0mdelta\u001b[0m\u001b[0;34m]\u001b[0m \u001b[0;34m+\u001b[0m \u001b[0mtheta\u001b[0m \u001b[0;34m+\u001b[0m \u001b[0;34m[\u001b[0m\u001b[0mdelta\u001b[0m\u001b[0;34m]\u001b[0m \u001b[0;34m+\u001b[0m \u001b[0mtheta\u001b[0m \u001b[0;34m+\u001b[0m \u001b[0;34m[\u001b[0m\u001b[0;34m-\u001b[0m\u001b[0mdelta\u001b[0m\u001b[0;34m*\u001b[0m\u001b[0;36m1j\u001b[0m\u001b[0;34m]\u001b[0m \u001b[0;34m+\u001b[0m \u001b[0mtheta\u001b[0m \u001b[0;34m+\u001b[0m \u001b[0;34m[\u001b[0m\u001b[0mdelta\u001b[0m\u001b[0;34m*\u001b[0m\u001b[0;36m1j\u001b[0m\u001b[0;34m]\u001b[0m\u001b[0;34m\u001b[0m\u001b[0;34m\u001b[0m\u001b[0m\n\u001b[0;32m---> 98\u001b[0;31m             \u001b[0menergy_results\u001b[0m \u001b[0;34m=\u001b[0m \u001b[0mvqe\u001b[0m\u001b[0;34m.\u001b[0m\u001b[0m_energy_evaluation\u001b[0m\u001b[0;34m(\u001b[0m\u001b[0mnp\u001b[0m\u001b[0;34m.\u001b[0m\u001b[0masarray\u001b[0m\u001b[0;34m(\u001b[0m\u001b[0mparameter_sets\u001b[0m\u001b[0;34m)\u001b[0m\u001b[0;34m)\u001b[0m\u001b[0;34m\u001b[0m\u001b[0;34m\u001b[0m\u001b[0m\n\u001b[0m\u001b[1;32m     99\u001b[0m             \u001b[0;31m# compute real and imaginary gradients\u001b[0m\u001b[0;34m\u001b[0m\u001b[0;34m\u001b[0m\u001b[0;34m\u001b[0m\u001b[0m\n\u001b[1;32m    100\u001b[0m             \u001b[0mgradient\u001b[0m \u001b[0;34m=\u001b[0m \u001b[0;34m(\u001b[0m\u001b[0menergy_results\u001b[0m\u001b[0;34m[\u001b[0m\u001b[0;36m0\u001b[0m\u001b[0;34m]\u001b[0m \u001b[0;34m-\u001b[0m \u001b[0menergy_results\u001b[0m\u001b[0;34m[\u001b[0m\u001b[0;36m1\u001b[0m\u001b[0;34m]\u001b[0m\u001b[0;34m)\u001b[0m \u001b[0;34m/\u001b[0m \u001b[0;34m(\u001b[0m\u001b[0;36m2\u001b[0m\u001b[0;34m*\u001b[0m\u001b[0mdelta\u001b[0m\u001b[0;34m)\u001b[0m\u001b[0;34m\u001b[0m\u001b[0;34m\u001b[0m\u001b[0m\n",
      "\u001b[0;32m~/Files/Uni/QiskitCamp2019/project/qiskit-aqua/qiskit/aqua/algorithms/adaptive/vqe/vqe.py\u001b[0m in \u001b[0;36m_energy_evaluation\u001b[0;34m(self, parameters)\u001b[0m\n\u001b[1;32m    369\u001b[0m             circuit = self.construct_circuit(parameter, statevector_mode=self._quantum_instance.is_statevector,\n\u001b[1;32m    370\u001b[0m                                              \u001b[0muse_simulator_operator_mode\u001b[0m\u001b[0;34m=\u001b[0m\u001b[0mself\u001b[0m\u001b[0;34m.\u001b[0m\u001b[0m_use_simulator_operator_mode\u001b[0m\u001b[0;34m,\u001b[0m\u001b[0;34m\u001b[0m\u001b[0;34m\u001b[0m\u001b[0m\n\u001b[0;32m--> 371\u001b[0;31m                                              circuit_name_prefix=str(idx))\n\u001b[0m\u001b[1;32m    372\u001b[0m             \u001b[0mcircuits\u001b[0m\u001b[0;34m.\u001b[0m\u001b[0mappend\u001b[0m\u001b[0;34m(\u001b[0m\u001b[0mcircuit\u001b[0m\u001b[0;34m)\u001b[0m\u001b[0;34m\u001b[0m\u001b[0;34m\u001b[0m\u001b[0m\n\u001b[1;32m    373\u001b[0m \u001b[0;34m\u001b[0m\u001b[0m\n",
      "\u001b[0;32m~/Files/Uni/QiskitCamp2019/project/qiskit-aqua/qiskit/aqua/algorithms/adaptive/vqe/vqe.py\u001b[0m in \u001b[0;36mconstruct_circuit\u001b[0;34m(self, parameter, backend, use_simulator_operator_mode, statevector_mode, circuit_name_prefix)\u001b[0m\n\u001b[1;32m    249\u001b[0m                 \u001b[0;32mraise\u001b[0m \u001b[0mAquaError\u001b[0m\u001b[0;34m(\u001b[0m\u001b[0;34m\"Either backend or statevector_mode need to be provided.\"\u001b[0m\u001b[0;34m)\u001b[0m\u001b[0;34m\u001b[0m\u001b[0;34m\u001b[0m\u001b[0m\n\u001b[1;32m    250\u001b[0m \u001b[0;34m\u001b[0m\u001b[0m\n\u001b[0;32m--> 251\u001b[0;31m         \u001b[0mwave_function\u001b[0m \u001b[0;34m=\u001b[0m \u001b[0mself\u001b[0m\u001b[0;34m.\u001b[0m\u001b[0m_var_form\u001b[0m\u001b[0;34m.\u001b[0m\u001b[0mconstruct_circuit\u001b[0m\u001b[0;34m(\u001b[0m\u001b[0mparameter\u001b[0m\u001b[0;34m)\u001b[0m\u001b[0;34m\u001b[0m\u001b[0;34m\u001b[0m\u001b[0m\n\u001b[0m\u001b[1;32m    252\u001b[0m         circuits = self._operator.construct_evaluation_circuit(\n\u001b[1;32m    253\u001b[0m             \u001b[0muse_simulator_operator_mode\u001b[0m\u001b[0;34m=\u001b[0m\u001b[0muse_simulator_operator_mode\u001b[0m\u001b[0;34m,\u001b[0m \u001b[0mwave_function\u001b[0m\u001b[0;34m=\u001b[0m\u001b[0mwave_function\u001b[0m\u001b[0;34m,\u001b[0m\u001b[0;34m\u001b[0m\u001b[0;34m\u001b[0m\u001b[0m\n",
      "\u001b[0;32m~/Files/Uni/QiskitCamp2019/project/qiskit-aqua/qiskit/chemistry/aqua_extensions/components/variational_forms/ucc.py\u001b[0m in \u001b[0;36mconstruct_circuit\u001b[0;34m(self, parameters, q)\u001b[0m\n\u001b[1;32m    308\u001b[0m                                 for index in range(self._depth * num_excitations)],\n\u001b[1;32m    309\u001b[0m                                \u001b[0mtask_args\u001b[0m\u001b[0;34m=\u001b[0m\u001b[0;34m(\u001b[0m\u001b[0mq\u001b[0m\u001b[0;34m,\u001b[0m \u001b[0mself\u001b[0m\u001b[0;34m.\u001b[0m\u001b[0m_num_time_slices\u001b[0m\u001b[0;34m)\u001b[0m\u001b[0;34m,\u001b[0m\u001b[0;34m\u001b[0m\u001b[0;34m\u001b[0m\u001b[0m\n\u001b[0;32m--> 310\u001b[0;31m                                num_processes=aqua_globals.num_processes)\n\u001b[0m\u001b[1;32m    311\u001b[0m         \u001b[0;32mfor\u001b[0m \u001b[0mqc\u001b[0m \u001b[0;32min\u001b[0m \u001b[0mresults\u001b[0m\u001b[0;34m:\u001b[0m\u001b[0;34m\u001b[0m\u001b[0;34m\u001b[0m\u001b[0m\n\u001b[1;32m    312\u001b[0m             \u001b[0;32mif\u001b[0m \u001b[0mself\u001b[0m\u001b[0;34m.\u001b[0m\u001b[0m_shallow_circuit_concat\u001b[0m\u001b[0;34m:\u001b[0m\u001b[0;34m\u001b[0m\u001b[0;34m\u001b[0m\u001b[0m\n",
      "\u001b[0;32m~/Files/Uni/QiskitCamp2019/project/.direnv/python-3.7.4/lib/python3.7/site-packages/qiskit/tools/parallel.py\u001b[0m in \u001b[0;36mparallel_map\u001b[0;34m(task, values, task_args, task_kwargs, num_processes)\u001b[0m\n\u001b[1;32m    130\u001b[0m                 \u001b[0mPublisher\u001b[0m\u001b[0;34m(\u001b[0m\u001b[0;34m)\u001b[0m\u001b[0;34m.\u001b[0m\u001b[0mpublish\u001b[0m\u001b[0;34m(\u001b[0m\u001b[0;34m\"terra.parallel.finish\"\u001b[0m\u001b[0;34m)\u001b[0m\u001b[0;34m\u001b[0m\u001b[0;34m\u001b[0m\u001b[0m\n\u001b[1;32m    131\u001b[0m                 \u001b[0mos\u001b[0m\u001b[0;34m.\u001b[0m\u001b[0menviron\u001b[0m\u001b[0;34m[\u001b[0m\u001b[0;34m'QISKIT_IN_PARALLEL'\u001b[0m\u001b[0;34m]\u001b[0m \u001b[0;34m=\u001b[0m \u001b[0;34m'False'\u001b[0m\u001b[0;34m\u001b[0m\u001b[0;34m\u001b[0m\u001b[0m\n\u001b[0;32m--> 132\u001b[0;31m                 \u001b[0;32mraise\u001b[0m \u001b[0mQiskitError\u001b[0m\u001b[0;34m(\u001b[0m\u001b[0;34m'Keyboard interrupt in parallel_map.'\u001b[0m\u001b[0;34m)\u001b[0m\u001b[0;34m\u001b[0m\u001b[0;34m\u001b[0m\u001b[0m\n\u001b[0m\u001b[1;32m    133\u001b[0m             \u001b[0;31m# Otherwise just reset parallel flag and error\u001b[0m\u001b[0;34m\u001b[0m\u001b[0;34m\u001b[0m\u001b[0;34m\u001b[0m\u001b[0m\n\u001b[1;32m    134\u001b[0m             \u001b[0mos\u001b[0m\u001b[0;34m.\u001b[0m\u001b[0menviron\u001b[0m\u001b[0;34m[\u001b[0m\u001b[0;34m'QISKIT_IN_PARALLEL'\u001b[0m\u001b[0;34m]\u001b[0m \u001b[0;34m=\u001b[0m \u001b[0;34m'False'\u001b[0m\u001b[0;34m\u001b[0m\u001b[0;34m\u001b[0m\u001b[0m\n",
      "\u001b[0;31mQiskitError\u001b[0m: 'Keyboard interrupt in parallel_map.'"
     ]
    }
   ],
   "source": [
    "from qiskit.aqua.algorithms.adaptive import VQEAdapt\n",
    "algorithm = VQEAdapt(qubitOp, var_form_base, optimizer, var_form._hopping_ops, threshold=0.00001, delta=1)\n",
    "result = algorithm.run(backend)"
   ]
  },
  {
   "cell_type": "markdown",
   "metadata": {},
   "source": [
    "#TODO: find out why the above does not converge further..."
   ]
  },
  {
   "cell_type": "code",
   "execution_count": null,
   "metadata": {},
   "outputs": [],
   "source": []
  }
 ],
 "metadata": {
  "kernelspec": {
   "display_name": "Python 3",
   "language": "python",
   "name": "python3"
  },
  "language_info": {
   "codemirror_mode": {
    "name": "ipython",
    "version": 3
   },
   "file_extension": ".py",
   "mimetype": "text/x-python",
   "name": "python",
   "nbconvert_exporter": "python",
   "pygments_lexer": "ipython3",
   "version": "3.7.4"
  }
 },
 "nbformat": 4,
 "nbformat_minor": 2
}
